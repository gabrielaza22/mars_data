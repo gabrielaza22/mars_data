{
 "cells": [
  {
   "attachments": {},
   "cell_type": "markdown",
   "metadata": {},
   "source": [
    "# Module 12 Challenge\n",
    "## Deliverable 1: Scrape Titles and Preview Text from Mars News"
   ]
  },
  {
   "cell_type": "code",
   "execution_count": 55,
   "metadata": {},
   "outputs": [],
   "source": [
    "# Import Splinter and BeautifulSoup\n",
    "from splinter import Browser\n",
    "from bs4 import BeautifulSoup\n",
    "import pandas as pd"
   ]
  },
  {
   "cell_type": "code",
   "execution_count": 2,
   "metadata": {
    "scrolled": true
   },
   "outputs": [],
   "source": [
    "browser = Browser('chrome')"
   ]
  },
  {
   "attachments": {},
   "cell_type": "markdown",
   "metadata": {},
   "source": [
    "### Step 1: Visit the Website\n",
    "\n",
    "1. Use automated browsing to visit the [Mars news site](https://static.bc-edx.com/data/web/mars_news/index.html). Inspect the page to identify which elements to scrape.\n",
    "\n",
    "      > **Hint** To identify which elements to scrape, you might want to inspect the page by using Chrome DevTools."
   ]
  },
  {
   "cell_type": "code",
   "execution_count": 3,
   "metadata": {},
   "outputs": [],
   "source": [
    "# Visit the Mars news site\n",
    "url = 'https://static.bc-edx.com/data/web/mars_news/index.html'\n",
    "browser.visit(url)"
   ]
  },
  {
   "attachments": {},
   "cell_type": "markdown",
   "metadata": {},
   "source": [
    "### Step 2: Scrape the Website\n",
    "\n",
    "Create a Beautiful Soup object and use it to extract text elements from the website."
   ]
  },
  {
   "cell_type": "code",
   "execution_count": 6,
   "metadata": {},
   "outputs": [],
   "source": [
    "\n",
    "# Create a Beautiful Soup object\n",
    "\n",
    "html = browser.html\n",
    "soup=BeautifulSoup(html, 'html.parser')"
   ]
  },
  {
   "cell_type": "code",
   "execution_count": 69,
   "metadata": {},
   "outputs": [
    {
     "name": "stdout",
     "output_type": "stream",
     "text": [
      "15\n"
     ]
    }
   ],
   "source": [
    "# Extract all the text elements\n",
    "parent_container = soup.find(\"div\", {\"id\": \"news\"})\n",
    "\n",
    "texts= parent_container.find_all(\"div\", {\"class\": \"list_text\"})\n",
    "print(len(text))"
   ]
  },
  {
   "attachments": {},
   "cell_type": "markdown",
   "metadata": {},
   "source": [
    "### Step 3: Store the Results\n",
    "\n",
    "Extract the titles and preview text of the news articles that you scraped. Store the scraping results in Python data structures as follows:\n",
    "\n",
    "* Store each title-and-preview pair in a Python dictionary. And, give each dictionary two keys: `title` and `preview`. An example is the following:\n",
    "\n",
    "  ```python\n",
    "  {'title': \"NASA's MAVEN Observes Martian Light Show Caused by Major Solar Storm\", \n",
    "   'preview': \"For the first time in its eight years orbiting Mars, NASA’s MAVEN mission witnessed two different types of ultraviolet aurorae simultaneously, the result of solar storms that began on Aug. 27.\"\n",
    "  }\n",
    "  ```\n",
    "\n",
    "* Store all the dictionaries in a Python list.\n",
    "\n",
    "* Print the list in your notebook."
   ]
  },
  {
   "cell_type": "code",
   "execution_count": 72,
   "metadata": {},
   "outputs": [],
   "source": [
    "# Create an empty list to store the dictionaries\n",
    "elements=[]\n"
   ]
  },
  {
   "cell_type": "code",
   "execution_count": 76,
   "metadata": {},
   "outputs": [
    {
     "data": {
      "text/html": [
       "<div>\n",
       "<style scoped>\n",
       "    .dataframe tbody tr th:only-of-type {\n",
       "        vertical-align: middle;\n",
       "    }\n",
       "\n",
       "    .dataframe tbody tr th {\n",
       "        vertical-align: top;\n",
       "    }\n",
       "\n",
       "    .dataframe thead th {\n",
       "        text-align: right;\n",
       "    }\n",
       "</style>\n",
       "<table border=\"1\" class=\"dataframe\">\n",
       "  <thead>\n",
       "    <tr style=\"text-align: right;\">\n",
       "      <th></th>\n",
       "      <th>Title</th>\n",
       "      <th>Preview text</th>\n",
       "    </tr>\n",
       "  </thead>\n",
       "  <tbody>\n",
       "    <tr>\n",
       "      <th>0</th>\n",
       "      <td>NASA's MAVEN Observes Martian Light Show Cause...</td>\n",
       "      <td>For the first time in its eight years orbiting...</td>\n",
       "    </tr>\n",
       "    <tr>\n",
       "      <th>1</th>\n",
       "      <td>NASA Prepares to Say 'Farewell' to InSight Spa...</td>\n",
       "      <td>A closer look at what goes into wrapping up th...</td>\n",
       "    </tr>\n",
       "    <tr>\n",
       "      <th>2</th>\n",
       "      <td>NASA and ESA Agree on Next Steps to Return Mar...</td>\n",
       "      <td>The agency’s Perseverance rover will establish...</td>\n",
       "    </tr>\n",
       "    <tr>\n",
       "      <th>3</th>\n",
       "      <td>NASA's InSight Lander Detects Stunning Meteoro...</td>\n",
       "      <td>The agency’s lander felt the ground shake duri...</td>\n",
       "    </tr>\n",
       "    <tr>\n",
       "      <th>4</th>\n",
       "      <td>NASA To Host Briefing on InSight, Mars Reconna...</td>\n",
       "      <td>Scientists from two Mars missions will discuss...</td>\n",
       "    </tr>\n",
       "    <tr>\n",
       "      <th>5</th>\n",
       "      <td>Why NASA Is Trying To Crash Land on Mars</td>\n",
       "      <td>Like a car’s crumple zone, the experimental SH...</td>\n",
       "    </tr>\n",
       "    <tr>\n",
       "      <th>6</th>\n",
       "      <td>Curiosity Mars Rover Reaches Long-Awaited Salt...</td>\n",
       "      <td>After years of climbing, the Mars rover has ar...</td>\n",
       "    </tr>\n",
       "    <tr>\n",
       "      <th>7</th>\n",
       "      <td>Mars Mission Shields Up for Tests</td>\n",
       "      <td>Protecting Mars Sample Return spacecraft from ...</td>\n",
       "    </tr>\n",
       "    <tr>\n",
       "      <th>8</th>\n",
       "      <td>NASA's InSight Waits Out Dust Storm</td>\n",
       "      <td>InSight’s team is taking steps to help the sol...</td>\n",
       "    </tr>\n",
       "    <tr>\n",
       "      <th>9</th>\n",
       "      <td>NASA's InSight 'Hears' Its First Meteoroid Imp...</td>\n",
       "      <td>The Mars lander’s seismometer has picked up vi...</td>\n",
       "    </tr>\n",
       "    <tr>\n",
       "      <th>10</th>\n",
       "      <td>NASA's Perseverance Rover Investigates Geologi...</td>\n",
       "      <td>The latest findings provide greater detail on ...</td>\n",
       "    </tr>\n",
       "    <tr>\n",
       "      <th>11</th>\n",
       "      <td>NASA to Host Briefing on Perseverance Mars Rov...</td>\n",
       "      <td>Members of the mission will discuss the rover’...</td>\n",
       "    </tr>\n",
       "    <tr>\n",
       "      <th>12</th>\n",
       "      <td>NASA's Perseverance Makes New Discoveries in M...</td>\n",
       "      <td>The rover found that Jezero Crater’s floor is ...</td>\n",
       "    </tr>\n",
       "    <tr>\n",
       "      <th>13</th>\n",
       "      <td>10 Years Since Landing, NASA's Curiosity Mars ...</td>\n",
       "      <td>Despite signs of wear, the intrepid spacecraft...</td>\n",
       "    </tr>\n",
       "    <tr>\n",
       "      <th>14</th>\n",
       "      <td>SAM's Top 5 Discoveries Aboard NASA's Curiosit...</td>\n",
       "      <td>“Selfie” of the Curiosity rover with inset sho...</td>\n",
       "    </tr>\n",
       "    <tr>\n",
       "      <th>15</th>\n",
       "      <td>NASA's MAVEN Observes Martian Light Show Cause...</td>\n",
       "      <td>For the first time in its eight years orbiting...</td>\n",
       "    </tr>\n",
       "    <tr>\n",
       "      <th>16</th>\n",
       "      <td>NASA Prepares to Say 'Farewell' to InSight Spa...</td>\n",
       "      <td>A closer look at what goes into wrapping up th...</td>\n",
       "    </tr>\n",
       "    <tr>\n",
       "      <th>17</th>\n",
       "      <td>NASA and ESA Agree on Next Steps to Return Mar...</td>\n",
       "      <td>The agency’s Perseverance rover will establish...</td>\n",
       "    </tr>\n",
       "    <tr>\n",
       "      <th>18</th>\n",
       "      <td>NASA's InSight Lander Detects Stunning Meteoro...</td>\n",
       "      <td>The agency’s lander felt the ground shake duri...</td>\n",
       "    </tr>\n",
       "    <tr>\n",
       "      <th>19</th>\n",
       "      <td>NASA To Host Briefing on InSight, Mars Reconna...</td>\n",
       "      <td>Scientists from two Mars missions will discuss...</td>\n",
       "    </tr>\n",
       "    <tr>\n",
       "      <th>20</th>\n",
       "      <td>Why NASA Is Trying To Crash Land on Mars</td>\n",
       "      <td>Like a car’s crumple zone, the experimental SH...</td>\n",
       "    </tr>\n",
       "    <tr>\n",
       "      <th>21</th>\n",
       "      <td>Curiosity Mars Rover Reaches Long-Awaited Salt...</td>\n",
       "      <td>After years of climbing, the Mars rover has ar...</td>\n",
       "    </tr>\n",
       "    <tr>\n",
       "      <th>22</th>\n",
       "      <td>Mars Mission Shields Up for Tests</td>\n",
       "      <td>Protecting Mars Sample Return spacecraft from ...</td>\n",
       "    </tr>\n",
       "    <tr>\n",
       "      <th>23</th>\n",
       "      <td>NASA's InSight Waits Out Dust Storm</td>\n",
       "      <td>InSight’s team is taking steps to help the sol...</td>\n",
       "    </tr>\n",
       "    <tr>\n",
       "      <th>24</th>\n",
       "      <td>NASA's InSight 'Hears' Its First Meteoroid Imp...</td>\n",
       "      <td>The Mars lander’s seismometer has picked up vi...</td>\n",
       "    </tr>\n",
       "    <tr>\n",
       "      <th>25</th>\n",
       "      <td>NASA's Perseverance Rover Investigates Geologi...</td>\n",
       "      <td>The latest findings provide greater detail on ...</td>\n",
       "    </tr>\n",
       "    <tr>\n",
       "      <th>26</th>\n",
       "      <td>NASA to Host Briefing on Perseverance Mars Rov...</td>\n",
       "      <td>Members of the mission will discuss the rover’...</td>\n",
       "    </tr>\n",
       "    <tr>\n",
       "      <th>27</th>\n",
       "      <td>NASA's Perseverance Makes New Discoveries in M...</td>\n",
       "      <td>The rover found that Jezero Crater’s floor is ...</td>\n",
       "    </tr>\n",
       "    <tr>\n",
       "      <th>28</th>\n",
       "      <td>10 Years Since Landing, NASA's Curiosity Mars ...</td>\n",
       "      <td>Despite signs of wear, the intrepid spacecraft...</td>\n",
       "    </tr>\n",
       "    <tr>\n",
       "      <th>29</th>\n",
       "      <td>SAM's Top 5 Discoveries Aboard NASA's Curiosit...</td>\n",
       "      <td>“Selfie” of the Curiosity rover with inset sho...</td>\n",
       "    </tr>\n",
       "  </tbody>\n",
       "</table>\n",
       "</div>"
      ],
      "text/plain": [
       "                                                Title  \\\n",
       "0   NASA's MAVEN Observes Martian Light Show Cause...   \n",
       "1   NASA Prepares to Say 'Farewell' to InSight Spa...   \n",
       "2   NASA and ESA Agree on Next Steps to Return Mar...   \n",
       "3   NASA's InSight Lander Detects Stunning Meteoro...   \n",
       "4   NASA To Host Briefing on InSight, Mars Reconna...   \n",
       "5            Why NASA Is Trying To Crash Land on Mars   \n",
       "6   Curiosity Mars Rover Reaches Long-Awaited Salt...   \n",
       "7                   Mars Mission Shields Up for Tests   \n",
       "8                 NASA's InSight Waits Out Dust Storm   \n",
       "9   NASA's InSight 'Hears' Its First Meteoroid Imp...   \n",
       "10  NASA's Perseverance Rover Investigates Geologi...   \n",
       "11  NASA to Host Briefing on Perseverance Mars Rov...   \n",
       "12  NASA's Perseverance Makes New Discoveries in M...   \n",
       "13  10 Years Since Landing, NASA's Curiosity Mars ...   \n",
       "14  SAM's Top 5 Discoveries Aboard NASA's Curiosit...   \n",
       "15  NASA's MAVEN Observes Martian Light Show Cause...   \n",
       "16  NASA Prepares to Say 'Farewell' to InSight Spa...   \n",
       "17  NASA and ESA Agree on Next Steps to Return Mar...   \n",
       "18  NASA's InSight Lander Detects Stunning Meteoro...   \n",
       "19  NASA To Host Briefing on InSight, Mars Reconna...   \n",
       "20           Why NASA Is Trying To Crash Land on Mars   \n",
       "21  Curiosity Mars Rover Reaches Long-Awaited Salt...   \n",
       "22                  Mars Mission Shields Up for Tests   \n",
       "23                NASA's InSight Waits Out Dust Storm   \n",
       "24  NASA's InSight 'Hears' Its First Meteoroid Imp...   \n",
       "25  NASA's Perseverance Rover Investigates Geologi...   \n",
       "26  NASA to Host Briefing on Perseverance Mars Rov...   \n",
       "27  NASA's Perseverance Makes New Discoveries in M...   \n",
       "28  10 Years Since Landing, NASA's Curiosity Mars ...   \n",
       "29  SAM's Top 5 Discoveries Aboard NASA's Curiosit...   \n",
       "\n",
       "                                         Preview text  \n",
       "0   For the first time in its eight years orbiting...  \n",
       "1   A closer look at what goes into wrapping up th...  \n",
       "2   The agency’s Perseverance rover will establish...  \n",
       "3   The agency’s lander felt the ground shake duri...  \n",
       "4   Scientists from two Mars missions will discuss...  \n",
       "5   Like a car’s crumple zone, the experimental SH...  \n",
       "6   After years of climbing, the Mars rover has ar...  \n",
       "7   Protecting Mars Sample Return spacecraft from ...  \n",
       "8   InSight’s team is taking steps to help the sol...  \n",
       "9   The Mars lander’s seismometer has picked up vi...  \n",
       "10  The latest findings provide greater detail on ...  \n",
       "11  Members of the mission will discuss the rover’...  \n",
       "12  The rover found that Jezero Crater’s floor is ...  \n",
       "13  Despite signs of wear, the intrepid spacecraft...  \n",
       "14  “Selfie” of the Curiosity rover with inset sho...  \n",
       "15  For the first time in its eight years orbiting...  \n",
       "16  A closer look at what goes into wrapping up th...  \n",
       "17  The agency’s Perseverance rover will establish...  \n",
       "18  The agency’s lander felt the ground shake duri...  \n",
       "19  Scientists from two Mars missions will discuss...  \n",
       "20  Like a car’s crumple zone, the experimental SH...  \n",
       "21  After years of climbing, the Mars rover has ar...  \n",
       "22  Protecting Mars Sample Return spacecraft from ...  \n",
       "23  InSight’s team is taking steps to help the sol...  \n",
       "24  The Mars lander’s seismometer has picked up vi...  \n",
       "25  The latest findings provide greater detail on ...  \n",
       "26  Members of the mission will discuss the rover’...  \n",
       "27  The rover found that Jezero Crater’s floor is ...  \n",
       "28  Despite signs of wear, the intrepid spacecraft...  \n",
       "29  “Selfie” of the Curiosity rover with inset sho...  "
      ]
     },
     "execution_count": 76,
     "metadata": {},
     "output_type": "execute_result"
    }
   ],
   "source": [
    "# Loop through the text elements\n",
    "# Extract the title and preview text from the elements\n",
    "# Store each title and preview pair in a dictionary\n",
    "# Add the dictionary to the list\n",
    "for text in texts:\n",
    "    titles= text.find(\"div\", {\"class\": \"content_title\"}).text.strip()\n",
    "    preview= text.find(\"div\", {\"class\": \"article_teaser_body\"}).text.strip()\n",
    "\n",
    "    content={\n",
    "        \"Title\": titles,\n",
    "    \"Preview text\" : preview }\n",
    "\n",
    "    elements.append(content)\n",
    "data=pd.DataFrame(elements)\n",
    "data"
   ]
  },
  {
   "cell_type": "code",
   "execution_count": 77,
   "metadata": {},
   "outputs": [
    {
     "name": "stdout",
     "output_type": "stream",
     "text": [
      "[{'Title': \"NASA's MAVEN Observes Martian Light Show Caused by Major Solar Storm\", 'Preview text': 'For the first time in its eight years orbiting Mars, NASA’s MAVEN mission witnessed two different types of ultraviolet aurorae simultaneously, the result of solar storms that began on Aug. 27.'}, {'Title': \"NASA Prepares to Say 'Farewell' to InSight Spacecraft\", 'Preview text': 'A closer look at what goes into wrapping up the mission as the spacecraft’s power supply continues to dwindle.'}, {'Title': 'NASA and ESA Agree on Next Steps to Return Mars Samples to Earth', 'Preview text': 'The agency’s Perseverance rover will establish the first sample depot on Mars.'}, {'Title': \"NASA's InSight Lander Detects Stunning Meteoroid Impact on Mars\", 'Preview text': 'The agency’s lander felt the ground shake during the impact while cameras aboard the Mars Reconnaissance Orbiter spotted the yawning new crater from space.'}, {'Title': 'NASA To Host Briefing on InSight, Mars Reconnaissance Orbiter Findings', 'Preview text': 'Scientists from two Mars missions will discuss how they combined images and data for a major finding on the Red Planet.'}, {'Title': 'Why NASA Is Trying To Crash Land on Mars', 'Preview text': 'Like a car’s crumple zone, the experimental SHIELD lander is designed to absorb a hard impact.'}, {'Title': 'Curiosity Mars Rover Reaches Long-Awaited Salty Region', 'Preview text': 'After years of climbing, the Mars rover has arrived at a special region believed to have formed as Mars’ climate was drying.'}, {'Title': 'Mars Mission Shields Up for Tests', 'Preview text': 'Protecting Mars Sample Return spacecraft from micrometeorites requires high-caliber work.'}, {'Title': \"NASA's InSight Waits Out Dust Storm\", 'Preview text': 'InSight’s team is taking steps to help the solar-powered lander continue operating for as long as possible.'}, {'Title': \"NASA's InSight 'Hears' Its First Meteoroid Impacts on Mars\", 'Preview text': 'The Mars lander’s seismometer has picked up vibrations from four separate impacts in the past two years.'}, {'Title': \"NASA's Perseverance Rover Investigates Geologically Rich Mars Terrain\", 'Preview text': 'The latest findings provide greater detail on a region of the Red Planet that has a watery past and is yielding promising samples for the NASA-ESA Mars Sample Return campaign.'}, {'Title': 'NASA to Host Briefing on Perseverance Mars Rover Mission Operations', 'Preview text': 'Members of the mission will discuss the rover’s activities as it gathers samples in an ancient river delta.'}, {'Title': \"NASA's Perseverance Makes New Discoveries in Mars' Jezero Crater\", 'Preview text': 'The rover found that Jezero Crater’s floor is made up of volcanic rocks that have interacted with water.'}, {'Title': \"10 Years Since Landing, NASA's Curiosity Mars Rover Still Has Drive\", 'Preview text': 'Despite signs of wear, the intrepid spacecraft is about to start an exciting new chapter of its mission as it climbs a Martian mountain.'}, {'Title': \"SAM's Top 5 Discoveries Aboard NASA's Curiosity Rover at Mars\", 'Preview text': '“Selfie” of the Curiosity rover with inset showing the SAM instrument prior to installation on the rover.'}, {'Title': \"NASA's MAVEN Observes Martian Light Show Caused by Major Solar Storm\", 'Preview text': 'For the first time in its eight years orbiting Mars, NASA’s MAVEN mission witnessed two different types of ultraviolet aurorae simultaneously, the result of solar storms that began on Aug. 27.'}, {'Title': \"NASA Prepares to Say 'Farewell' to InSight Spacecraft\", 'Preview text': 'A closer look at what goes into wrapping up the mission as the spacecraft’s power supply continues to dwindle.'}, {'Title': 'NASA and ESA Agree on Next Steps to Return Mars Samples to Earth', 'Preview text': 'The agency’s Perseverance rover will establish the first sample depot on Mars.'}, {'Title': \"NASA's InSight Lander Detects Stunning Meteoroid Impact on Mars\", 'Preview text': 'The agency’s lander felt the ground shake during the impact while cameras aboard the Mars Reconnaissance Orbiter spotted the yawning new crater from space.'}, {'Title': 'NASA To Host Briefing on InSight, Mars Reconnaissance Orbiter Findings', 'Preview text': 'Scientists from two Mars missions will discuss how they combined images and data for a major finding on the Red Planet.'}, {'Title': 'Why NASA Is Trying To Crash Land on Mars', 'Preview text': 'Like a car’s crumple zone, the experimental SHIELD lander is designed to absorb a hard impact.'}, {'Title': 'Curiosity Mars Rover Reaches Long-Awaited Salty Region', 'Preview text': 'After years of climbing, the Mars rover has arrived at a special region believed to have formed as Mars’ climate was drying.'}, {'Title': 'Mars Mission Shields Up for Tests', 'Preview text': 'Protecting Mars Sample Return spacecraft from micrometeorites requires high-caliber work.'}, {'Title': \"NASA's InSight Waits Out Dust Storm\", 'Preview text': 'InSight’s team is taking steps to help the solar-powered lander continue operating for as long as possible.'}, {'Title': \"NASA's InSight 'Hears' Its First Meteoroid Impacts on Mars\", 'Preview text': 'The Mars lander’s seismometer has picked up vibrations from four separate impacts in the past two years.'}, {'Title': \"NASA's Perseverance Rover Investigates Geologically Rich Mars Terrain\", 'Preview text': 'The latest findings provide greater detail on a region of the Red Planet that has a watery past and is yielding promising samples for the NASA-ESA Mars Sample Return campaign.'}, {'Title': 'NASA to Host Briefing on Perseverance Mars Rover Mission Operations', 'Preview text': 'Members of the mission will discuss the rover’s activities as it gathers samples in an ancient river delta.'}, {'Title': \"NASA's Perseverance Makes New Discoveries in Mars' Jezero Crater\", 'Preview text': 'The rover found that Jezero Crater’s floor is made up of volcanic rocks that have interacted with water.'}, {'Title': \"10 Years Since Landing, NASA's Curiosity Mars Rover Still Has Drive\", 'Preview text': 'Despite signs of wear, the intrepid spacecraft is about to start an exciting new chapter of its mission as it climbs a Martian mountain.'}, {'Title': \"SAM's Top 5 Discoveries Aboard NASA's Curiosity Rover at Mars\", 'Preview text': '“Selfie” of the Curiosity rover with inset showing the SAM instrument prior to installation on the rover.'}]\n"
     ]
    }
   ],
   "source": [
    "# Print the list to confirm success\n",
    "print(elements)"
   ]
  },
  {
   "cell_type": "code",
   "execution_count": 78,
   "metadata": {},
   "outputs": [],
   "source": [
    "browser.quit()"
   ]
  },
  {
   "cell_type": "code",
   "execution_count": null,
   "metadata": {},
   "outputs": [],
   "source": []
  }
 ],
 "metadata": {
  "kernelspec": {
   "display_name": "Python 3 (ipykernel)",
   "language": "python",
   "name": "python3"
  },
  "language_info": {
   "codemirror_mode": {
    "name": "ipython",
    "version": 3
   },
   "file_extension": ".py",
   "mimetype": "text/x-python",
   "name": "python",
   "nbconvert_exporter": "python",
   "pygments_lexer": "ipython3",
   "version": "3.10.14"
  },
  "vscode": {
   "interpreter": {
    "hash": "31f2aee4e71d21fbe5cf8b01ff0e069b9275f58929596ceb00d14d90e3e16cd6"
   }
  }
 },
 "nbformat": 4,
 "nbformat_minor": 4
}
